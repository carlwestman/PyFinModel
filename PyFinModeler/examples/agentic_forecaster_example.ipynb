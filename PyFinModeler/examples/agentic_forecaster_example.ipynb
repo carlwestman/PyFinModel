{
 "cells": [
  {
   "cell_type": "code",
   "execution_count": 1,
   "id": "7934b91a",
   "metadata": {},
   "outputs": [
    {
     "name": "stderr",
     "output_type": "stream",
     "text": [
      "/usr/local/python/3.12.1/lib/python3.12/site-packages/tqdm/auto.py:21: TqdmWarning: IProgress not found. Please update jupyter and ipywidgets. See https://ipywidgets.readthedocs.io/en/stable/user_install.html\n",
      "  from .autonotebook import tqdm as notebook_tqdm\n"
     ]
    },
    {
     "name": "stdout",
     "output_type": "stream",
     "text": [
      "Warning: Falling back from report_type 'quarter' to 'r12' for KPI 'P/E'.\n",
      "Warning: Falling back from report_type 'quarter' to 'r12' for KPI 'EV/EBIT'.\n",
      "Warning: Falling back from report_type 'quarter' to 'r12' for KPI 'EV/EBITDA'.\n",
      "Warning: Falling back from report_type 'quarter' to 'r12' for KPI 'ROE'.\n",
      "Warning: Falling back from report_type 'quarter' to 'r12' for KPI 'ROA'.\n",
      "Warning: Falling back from report_type 'quarter' to 'r12' for KPI 'Utdelning/FCF'.\n",
      "Warning: Falling back from report_type 'quarter' to 'r12' for KPI 'AntalAktier'.\n",
      "Warning: Falling back from report_type 'quarter' to 'r12' for KPI 'Utdelning/Aktie'.\n",
      "Warning: Falling back from report_type 'quarter' to 'r12' for KPI 'Direktavkastning'.\n",
      "Warning: Falling back from report_type 'quarter' to 'r12' for KPI 'Utdelningsandel'.\n",
      "Forecasted values: {'2025Q2': 5550.0, '2025Q3': 5880.0, '2025Q4': 6200.0, '2026Q1': 6340.0}\n"
     ]
    }
   ],
   "source": [
    "import asyncio\n",
    "from PyFinModeler.forecast.agentic_forecaster import AgenticForecast\n",
    "from PyFinModeler.core.company import Company\n",
    "from PyFinModeler.data.borsdata_collector import BorsdataCollector\n",
    "import os\n",
    "\n",
    "# Initialize the BorsdataCollector and fetch the company\n",
    "api_key = os.environ.get(\"BORSDATA_API_KEY\")\n",
    "collector = BorsdataCollector(api_key=api_key)\n",
    "company = collector.fetch_company(\"Evolution\", report_type=\"quarter\")\n",
    "\n",
    "# Initialize the AgenticForecast\n",
    "assistant_id = \"asst_1JOObU2tF9VsV0tTokWME3Fp\"\n",
    "forecaster = AgenticForecast(assistant_id)\n",
    "\n",
    "# Add transcript files\n",
    "forecaster.add_transcript(\"data/evo_transcript_2024Q4.txt\")\n",
    "forecaster.add_transcript(\"data/evo_transcript_2025Q1.txt\")\n",
    "\n",
    "# Set the company and target item\n",
    "forecaster.set_company(company)\n",
    "forecaster.set_target_item(\"revenues\")\n",
    "\n",
    "# Run the forecaster\n",
    "async def main():\n",
    "    await forecaster.run()\n",
    "\n",
    "asyncio.run(main())\n",
    "\n",
    "# Access the forecasted values\n",
    "target_item = company.income_statement.get_item(\"revenues\")\n",
    "print(\"Forecasted values:\", target_item.forecasted)"
   ]
  }
 ],
 "metadata": {
  "kernelspec": {
   "display_name": "Python 3",
   "language": "python",
   "name": "python3"
  },
  "language_info": {
   "codemirror_mode": {
    "name": "ipython",
    "version": 3
   },
   "file_extension": ".py",
   "mimetype": "text/x-python",
   "name": "python",
   "nbconvert_exporter": "python",
   "pygments_lexer": "ipython3",
   "version": "3.12.1"
  }
 },
 "nbformat": 4,
 "nbformat_minor": 5
}
