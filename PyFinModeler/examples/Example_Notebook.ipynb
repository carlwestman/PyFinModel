{
 "cells": [
  {
   "cell_type": "markdown",
   "id": "55e66abc-14f8-4a6f-9f5c-15fce113263e",
   "metadata": {},
   "source": [
    "## Example Analysis"
   ]
  },
  {
   "cell_type": "code",
   "execution_count": 2,
   "id": "abeefdf3-0075-4fa8-8a88-e6385153671d",
   "metadata": {},
   "outputs": [],
   "source": [
    "import os\n",
    "from PyFinModeler import (\n",
    "    Company, AssumptionSet, ForecastRule, ForecastModel,\n",
    "    DividendDiscountModel, ValuationSummaryReport, ScenarioModel,\n",
    "    ChartGenerator, BorsdataCollector, BorsdataKPICollector,\n",
    "    FinancialItem, FinancialItemType, create_markdown_table\n",
    ")\n",
    "from IPython.display import Markdown, display"
   ]
  },
  {
   "cell_type": "markdown",
   "id": "b63ab395-a23a-42af-b3f3-a6f8e0cc15b1",
   "metadata": {},
   "source": [
    "### Step 1 Load API Key"
   ]
  },
  {
   "cell_type": "code",
   "execution_count": 3,
   "id": "738b2e00-6374-4d4b-a586-b4f25551816e",
   "metadata": {},
   "outputs": [],
   "source": [
    "api_key = os.environ.get(\"BORSDATA_API_KEY\")\n",
    "if not api_key:\n",
    "    raise ValueError(\"API Key not found. Please set BORSDATA_API_KEY.\")"
   ]
  },
  {
   "cell_type": "markdown",
   "id": "c2477047-b2b7-4b9e-9db1-b6749787803d",
   "metadata": {},
   "source": [
    "### Step 2: Initialize collectors"
   ]
  },
  {
   "cell_type": "code",
   "execution_count": 4,
   "id": "d10f89fa-9494-4d6a-b513-f8ef913c9083",
   "metadata": {},
   "outputs": [],
   "source": [
    "collector = BorsdataCollector(api_key=api_key)\n",
    "kpi_collector = BorsdataKPICollector(api_key=api_key)"
   ]
  },
  {
   "cell_type": "markdown",
   "id": "ba6445c4-dc21-4297-89f6-f0bc43f2fc2f",
   "metadata": {},
   "source": [
    "### Step 3: Fetch Company (Atlas Copco B)"
   ]
  },
  {
   "cell_type": "code",
   "execution_count": 5,
   "id": "4c01f8f4-c9f2-4d57-b416-2a2280274562",
   "metadata": {},
   "outputs": [
    {
     "data": {
      "text/markdown": [
       "| Key | Value |\n",
       "|:----|:------|\n",
       "| insId | 1605 |\n",
       "| name | Atlas Copco B |\n",
       "| urlName | atlas-copco-b |\n",
       "| instrument | 3 |\n",
       "| isin | SE0017486897 |\n",
       "| ticker | ATCO B |\n",
       "| yahoo | ATCO-B.ST |\n",
       "| sectorId | 5 |\n",
       "| marketId | 1 |\n",
       "| branchId | 23 |\n",
       "| countryId | 1 |\n",
       "| listingDate | 1973-01-01T00:00:00 |\n",
       "| stockPriceCurrency | SEK |\n",
       "| reportCurrency | SEK |\n"
      ],
      "text/plain": [
       "<IPython.core.display.Markdown object>"
      ]
     },
     "metadata": {},
     "output_type": "display_data"
    }
   ],
   "source": [
    "company, company_id, company_info = collector.fetch_company_by_name(\"Atlas Copco B\", report_type=\"year\")\n",
    "\n",
    "if company is None:\n",
    "    print(\"Company not found.\")\n",
    "    exit()\n",
    "else:\n",
    "    display(Markdown(create_markdown_table(company_info)))"
   ]
  },
  {
   "cell_type": "markdown",
   "id": "aa71b576-8aed-4731-855a-a7762022b63f",
   "metadata": {},
   "source": [
    "### Step 4: Fetch real KPIs from Nordic endpoint"
   ]
  },
  {
   "cell_type": "code",
   "execution_count": 6,
   "id": "9776d819-144b-4218-96be-0751d301b4d9",
   "metadata": {},
   "outputs": [],
   "source": [
    "# Step 4: Fetch real KPIs from Nordic endpoint\n",
    "\n",
    "# Fetch Net Income Margin (Net Margin %)\n",
    "try:\n",
    "    net_income_margin_values = kpi_collector.fetch_kpis(company_id, kpi_id=30, report_type=\"year\", price_type=\"mean\")\n",
    "    net_income_margin = list(net_income_margin_values.values())[0]\n",
    "except Exception as e:\n",
    "    print(f\"Warning: Could not fetch Net Income Margin. Error: {str(e)}\")\n",
    "    net_income_margin = 0.20  # fallback\n",
    "\n",
    "# Fetch Payout Ratio %\n",
    "try:\n",
    "    payout_ratio_values = kpi_collector.fetch_kpis(company_id, kpi_id=20, report_type=\"year\", price_type=\"mean\")\n",
    "    payout_ratio = list(payout_ratio_values.values())[0] / 100\n",
    "except Exception as e:\n",
    "    print(f\"Warning: Could not fetch Payout Ratio. Error: {str(e)}\")\n",
    "    payout_ratio = 0.5\n",
    "\n",
    "# Fetch Number of Shares\n",
    "try:\n",
    "    shares_values = kpi_collector.fetch_kpis(company_id, kpi_id=61, report_type=\"year\", price_type=\"mean\")\n",
    "    shares_outstanding = list(shares_values.values())[0]\n",
    "except Exception as e:\n",
    "    print(f\"Warning: Could not fetch Number of Shares. Error: {str(e)}\")\n",
    "    shares_outstanding = 100_000_000"
   ]
  },
  {
   "cell_type": "code",
   "execution_count": 8,
   "id": "ca6df3f6-0a46-4266-903a-a6c896df2116",
   "metadata": {},
   "outputs": [
    {
     "data": {
      "text/plain": [
       "({2024: 16.847999572753906,\n",
       "  2023: 16.239999771118164,\n",
       "  2022: 16.61199951171875,\n",
       "  2021: 16.34600067138672,\n",
       "  2020: 14.810999870300293,\n",
       "  2019: 15.923999786376953,\n",
       "  2018: 17.1299991607666,\n",
       "  2017: 14.319999694824219,\n",
       "  2016: 11.770999908447266,\n",
       "  2015: 11.468999862670898},\n",
       " {2024: 49.18000030517578,\n",
       "  2023: 48.611000061035156,\n",
       "  2022: 47.71099853515625,\n",
       "  2021: 51.04499816894531,\n",
       "  2020: 60.03499984741211,\n",
       "  2019: 51.46500015258789,\n",
       "  2018: 46.79800033569336,\n",
       "  2017: 50.9739990234375,\n",
       "  2016: 69.30599975585938,\n",
       "  2015: 65.45600128173828},\n",
       " {2024: 4874.2001953125,\n",
       "  2023: 4873.0,\n",
       "  2022: 4870.0,\n",
       "  2021: 4870.7998046875,\n",
       "  2020: 4861.60009765625,\n",
       "  2019: 4858.7998046875,\n",
       "  2018: 4854.0,\n",
       "  2017: 4856.0,\n",
       "  2016: 4864.0,\n",
       "  2015: 4869.60009765625})"
      ]
     },
     "execution_count": 8,
     "metadata": {},
     "output_type": "execute_result"
    }
   ],
   "source": [
    "net_income_margin_values, payout_ratio_values, shares_values"
   ]
  },
  {
   "cell_type": "code",
   "execution_count": null,
   "id": "7fa49a66-e2d7-4924-9a9e-d3273171c86f",
   "metadata": {},
   "outputs": [],
   "source": []
  }
 ],
 "metadata": {
  "kernelspec": {
   "display_name": "Python 3 (ipykernel)",
   "language": "python",
   "name": "python3"
  },
  "language_info": {
   "codemirror_mode": {
    "name": "ipython",
    "version": 3
   },
   "file_extension": ".py",
   "mimetype": "text/x-python",
   "name": "python",
   "nbconvert_exporter": "python",
   "pygments_lexer": "ipython3",
   "version": "3.12.1"
  }
 },
 "nbformat": 4,
 "nbformat_minor": 5
}
